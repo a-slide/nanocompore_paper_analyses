{
 "cells": [
  {
   "cell_type": "markdown",
   "metadata": {},
   "source": [
    "# Random guided sequence generator"
   ]
  },
  {
   "cell_type": "code",
   "execution_count": 5,
   "metadata": {
    "ExecuteTime": {
     "end_time": "2019-02-19T17:22:24.790216Z",
     "start_time": "2019-02-19T17:22:24.775889Z"
    },
    "init_cell": true
   },
   "outputs": [
    {
     "data": {
      "text/html": [
       "<p style=\"font-size:150%;line-height:15px;\"><b>Adrien Leger / EMBL EBI</b></p>"
      ],
      "text/plain": [
       "<IPython.core.display.HTML object>"
      ]
     },
     "metadata": {},
     "output_type": "display_data"
    },
    {
     "data": {
      "text/html": [
       "<p style=\"font-size:125%;line-height:15px;\"><i><b>Starting date : 2019_02_12</b></i></p>"
      ],
      "text/plain": [
       "<IPython.core.display.HTML object>"
      ]
     },
     "metadata": {},
     "output_type": "display_data"
    },
    {
     "data": {
      "text/html": [
       "<p style=\"font-size:125%;line-height:15px;\"><i><b>Last modification date : 2019_02_19</b></i></p>"
      ],
      "text/plain": [
       "<IPython.core.display.HTML object>"
      ]
     },
     "metadata": {},
     "output_type": "display_data"
    }
   ],
   "source": [
    "from datetime import date\n",
    "from pycltools.pycltools import jprint\n",
    "\n",
    "jprint('Adrien Leger / EMBL EBI', bold=True, size=150)\n",
    "jprint('Starting date : 2019_02_12', bold=True, italic=True, size=125)\n",
    "jprint('Last modification date : {}_{:02}_{:02}'.format(date.today().year, date.today().month, date.today().day), bold=True, italic=True, size=125)"
   ]
  },
  {
   "cell_type": "markdown",
   "metadata": {},
   "source": [
    "## Imports"
   ]
  },
  {
   "cell_type": "code",
   "execution_count": 6,
   "metadata": {
    "ExecuteTime": {
     "end_time": "2019-02-19T17:22:24.806368Z",
     "start_time": "2019-02-19T17:22:24.792485Z"
    },
    "init_cell": true
   },
   "outputs": [],
   "source": [
    "# Standard lib imports\n",
    "import os\n",
    "from datetime import date\n",
    "from collections import *\n",
    "from random import *\n",
    "from glob import glob, iglob\n",
    "from shutil import rmtree\n",
    "import itertools\n",
    "from pprint import pprint as pp\n",
    "import gzip\n",
    "\n",
    "# Generic third party imports\n",
    "from pycltools.pycltools import *\n",
    "import pysam\n",
    "import pyfaidx\n",
    "from tqdm import trange, tqdm\n",
    "from skbio.alignment import StripedSmithWaterman\n",
    "from skbio import DNA\n",
    "\n",
    "# Ploting lib imports\n",
    "import matplotlib.pyplot as pl\n",
    "import seaborn as sns\n",
    "%matplotlib inline\n",
    "\n",
    "# Data wrangling lib imports\n",
    "import pandas as pd\n",
    "import numpy as np\n",
    "import scipy as sp\n",
    "pd.options.display.max_colwidth = 200\n",
    "pd.options.display.max_columns = 200"
   ]
  },
  {
   "cell_type": "markdown",
   "metadata": {},
   "source": [
    "## Generate a random guided reference set "
   ]
  },
  {
   "cell_type": "markdown",
   "metadata": {},
   "source": [
    "**The function randomly picks a kmer based on weight equals to the inverse of the representation of each possible kmer in the previously generated sequences**"
   ]
  },
  {
   "cell_type": "code",
   "execution_count": 7,
   "metadata": {
    "ExecuteTime": {
     "end_time": "2019-02-19T17:22:24.828579Z",
     "start_time": "2019-02-19T17:22:24.809938Z"
    },
    "init_cell": true
   },
   "outputs": [],
   "source": [
    "def random_guided_weight (fasta_fn, alphabet=[\"A\",\"G\",\"T\",\"C\"], kmer_len=7, hp_max=4, seq_len=500, n_seq=100, seed=None):\n",
    "    \n",
    "    np.random.seed(seed)\n",
    "    kmer_c = Counter()\n",
    "    with open (fasta_fn, \"w\") as fasta_fp:\n",
    "        for seq_num in trange(n_seq):\n",
    "            seq = []\n",
    "\n",
    "            # First base\n",
    "            hp = 1\n",
    "            seq.append(random.choice(alphabet))\n",
    "\n",
    "            # Extend seed to length kmer_len\n",
    "            for i in range(kmer_len-1):\n",
    "                # Reduce choice if max homopolymer reached\n",
    "                choices = [i for i in alphabet if i!=seq[-1]] if hp >= hp_max else alphabet\n",
    "                # Sample from available choices\n",
    "                seq.append(random.choice(choices))\n",
    "                # Check if homopolymers extends\n",
    "                hp = hp+1 if seq[-2] == seq[-1] else 1\n",
    "            kmer_c[\"\".join(seq)] += 1\n",
    "\n",
    "            # Extend sequence\n",
    "            for _ in range (seq_len-kmer_len):\n",
    "                count_d = defaultdict(list)\n",
    "                prev = seq[-kmer_len+1:]\n",
    "\n",
    "                # Reduce choice if max homopolymer reached\n",
    "                choices = [i for i in alphabet if i!=seq[-1]] if hp >= hp_max else alphabet    \n",
    "\n",
    "                # Collect count for each possible kmers and transform to weights\n",
    "                p = []\n",
    "                for b in choices:\n",
    "                    kmer = \"\".join(prev+[b])\n",
    "                    if not kmer in kmer_c:\n",
    "                        p.append(0)\n",
    "                    else:\n",
    "                        p.append(kmer_c[kmer])\n",
    "                p = np.array(p)\n",
    "                p = 1/(p-p.min()+1)\n",
    "                p = p/p.sum()\n",
    "\n",
    "                # Choose randomly fron base kmer with lower count \n",
    "                b = np.random.choice(choices, p=p)\n",
    "                seq.append(b)\n",
    "                # Update kmer counter\n",
    "                kmer_c[\"\".join(prev+[b])] += 1\n",
    "                # Check if homopolymers extends\n",
    "                hp = hp+1 if seq[-2]==seq[-1] else 1\n",
    "            \n",
    "            # Write to disk\n",
    "            fasta_fp.write(\">ref_{:04}\\n{}\\n\".format(seq_num, \"\".join(seq)))"
   ]
  },
  {
   "cell_type": "code",
   "execution_count": 5,
   "metadata": {
    "ExecuteTime": {
     "end_time": "2019-02-19T17:07:37.517791Z",
     "start_time": "2019-02-19T17:06:23.834974Z"
    },
    "scrolled": false
   },
   "outputs": [
    {
     "name": "stderr",
     "output_type": "stream",
     "text": [
      "100%|██████████| 2000/2000 [01:13<00:00, 27.15it/s]"
     ]
    },
    {
     "name": "stdout",
     "output_type": "stream",
     "text": [
      ">ref_0000                                                                                           ...\n",
      "GTCTCAAAAGCTTAAACTTACCAAAGTGGTAGGGCATTATAACCCGATGAGACGTGTTACCCCTCAAAGGGCGGTACACCAACTTCAGACTGAGGTTCGA...\n",
      ">ref_0001                                                                                           ...\n",
      "TTTATTGGTTGAGGTACCTTGCTACCCTTGCCAAGCCATGCCCGGGACCCCTCCCAGACTATTGATTCTCTTCGAACTTAAAGTGGCGTCGTCCACGGGC...\n",
      ">ref_0002                                                                                           ...\n",
      "GTAGCCGAAAATGTGACCTGTGACACGATCTCTTCAGACCATCATCATGCCCGCCGCATAAATGTAGTCGTCTAACACTCCCGCGGTCCCGGTAAGGGAA...\n",
      ">ref_0003                                                                                           ...\n",
      "GTGATCCATGGTCCCGCATAGGGTGGAGAATTTGGCTGAGGGTTTCCTCAAATCACACGAGGGGCTGTTGGAATATTATGCGCTATCTCCAATGCCGACG...\n",
      ">ref_0004                                                                                           ...\n",
      "GTAAGCCCTTTAGGAACGTGCGGCCACGGAATGGTCATACTCAAGGACAGCGCAGAACATGGCATCTCAGGTCGTATGCTGAAAGCTTACTATTAGGACC...\n",
      "\n"
     ]
    },
    {
     "name": "stderr",
     "output_type": "stream",
     "text": [
      "\n"
     ]
    }
   ],
   "source": [
    "fa = \"./random_guided_weight.fa\"\n",
    "random_guided_weight(fa, kmer_len=9, hp_max=5, seq_len=500, n_seq=2000, seed=42)\n",
    "head(fa, max_char_col=100, max_char_line=100)"
   ]
  },
  {
   "cell_type": "markdown",
   "metadata": {},
   "source": [
    "**Plot occurrence distribution of different kmer sizes**"
   ]
  },
  {
   "cell_type": "code",
   "execution_count": 8,
   "metadata": {
    "ExecuteTime": {
     "end_time": "2019-02-19T17:22:24.850919Z",
     "start_time": "2019-02-19T17:22:24.834413Z"
    },
    "init_cell": true
   },
   "outputs": [],
   "source": [
    "def plot_kmer_content (fasta_fn, min_kmer=5, max_kmer=9):\n",
    "    with pyfaidx.Fasta(fasta_fn) as fa:\n",
    "        for kmer_len in range(min_kmer,max_kmer+1):\n",
    "            jprint (f\"Kmer of length {kmer_len}\", bold=True)\n",
    "            c = Counter()\n",
    "            l = []\n",
    "            for seq in fa:\n",
    "                seq = str(seq)\n",
    "                for i in range(0, len(seq)-kmer_len+1):\n",
    "                    c[seq[i:i+kmer_len]]+=1       \n",
    "            print (\"Found {:,} kmers out of {:,} possibilities ({:.2f}%)\".format(len(c), pow(4,kmer_len), len(c)/pow(4,kmer_len)*100))\n",
    "\n",
    "            l = []\n",
    "            for i in c.values():\n",
    "                l.append(i)\n",
    "            print (\"Median occurences: {:,}, Min occurences: {:,}, Max occurences: {:,}\".format(int(np.median(l)),np.min(l),np.max(l)))\n",
    "\n",
    "            # Bin kmer occurence counts\n",
    "            cc = Counter()\n",
    "            for i in c.values():\n",
    "                cc[i]+=1\n",
    "\n",
    "            with pl.style.context(\"ggplot\"):\n",
    "                fig, ax = pl.subplots(figsize=(15,2))\n",
    "                ax.bar(list(cc.keys()), list(cc.values()))\n",
    "                ax.set_yscale(\"log\")\n",
    "                ax.set_xlabel(\"Occurences count (log scale)\")\n",
    "                pl.show()"
   ]
  },
  {
   "cell_type": "code",
   "execution_count": 9,
   "metadata": {
    "ExecuteTime": {
     "end_time": "2019-02-19T17:22:39.162425Z",
     "start_time": "2019-02-19T17:22:30.391557Z"
    }
   },
   "outputs": [
    {
     "data": {
      "text/html": [
       "<p style=\"line-height:15px;\"><b>Kmer of length 5</b></p>"
      ],
      "text/plain": [
       "<IPython.core.display.HTML object>"
      ]
     },
     "metadata": {},
     "output_type": "display_data"
    },
    {
     "name": "stdout",
     "output_type": "stream",
     "text": [
      "Found 1,024 kmers out of 1,024 possibilities (100.00%)\n",
      "Median occurences: 970, Min occurences: 714, Max occurences: 1,032\n"
     ]
    },
    {
     "data": {
      "image/png": "[encoded data removed]",
      "text/plain": [
       "<Figure size 1080x144 with 1 Axes>"
      ]
     },
     "metadata": {},
     "output_type": "display_data"
    },
    {
     "data": {
      "text/html": [
       "<p style=\"line-height:15px;\"><b>Kmer of length 6</b></p>"
      ],
      "text/plain": [
       "<IPython.core.display.HTML object>"
      ]
     },
     "metadata": {},
     "output_type": "display_data"
    },
    {
     "name": "stdout",
     "output_type": "stream",
     "text": [
      "Found 4,092 kmers out of 4,096 possibilities (99.90%)\n",
      "Median occurences: 242, Min occurences: 213, Max occurences: 278\n"
     ]
    },
    {
     "data": {
      "image/png": "[encoded data removed]",
      "text/plain": [
       "<Figure size 1080x144 with 1 Axes>"
      ]
     },
     "metadata": {},
     "output_type": "display_data"
    },
    {
     "data": {
      "text/html": [
       "<p style=\"line-height:15px;\"><b>Kmer of length 7</b></p>"
      ],
      "text/plain": [
       "<IPython.core.display.HTML object>"
      ]
     },
     "metadata": {},
     "output_type": "display_data"
    },
    {
     "name": "stdout",
     "output_type": "stream",
     "text": [
      "Found 16,356 kmers out of 16,384 possibilities (99.83%)\n",
      "Median occurences: 60, Min occurences: 44, Max occurences: 88\n"
     ]
    },
    {
     "data": {
      "image/png": "[encoded data removed]",
      "text/plain": [
       "<Figure size 1080x144 with 1 Axes>"
      ]
     },
     "metadata": {},
     "output_type": "display_data"
    },
    {
     "data": {
      "text/html": [
       "<p style=\"line-height:15px;\"><b>Kmer of length 8</b></p>"
      ],
      "text/plain": [
       "<IPython.core.display.HTML object>"
      ]
     },
     "metadata": {},
     "output_type": "display_data"
    },
    {
     "name": "stdout",
     "output_type": "stream",
     "text": [
      "Found 65,376 kmers out of 65,536 possibilities (99.76%)\n",
      "Median occurences: 15, Min occurences: 7, Max occurences: 28\n"
     ]
    },
    {
     "data": {
      "image/png": "[encoded data removed]",
      "text/plain": [
       "<Figure size 1080x144 with 1 Axes>"
      ]
     },
     "metadata": {},
     "output_type": "display_data"
    },
    {
     "data": {
      "text/html": [
       "<p style=\"line-height:15px;\"><b>Kmer of length 9</b></p>"
      ],
      "text/plain": [
       "<IPython.core.display.HTML object>"
      ]
     },
     "metadata": {},
     "output_type": "display_data"
    },
    {
     "name": "stdout",
     "output_type": "stream",
     "text": [
      "Found 261,257 kmers out of 262,144 possibilities (99.66%)\n",
      "Median occurences: 4, Min occurences: 1, Max occurences: 9\n"
     ]
    },
    {
     "data": {
      "image/png": "[encoded data removed]",
      "text/plain": [
       "<Figure size 1080x144 with 1 Axes>"
      ]
     },
     "metadata": {},
     "output_type": "display_data"
    }
   ],
   "source": [
    "fa = \"./random_guided_weight.fa\"\n",
    "plot_kmer_content (fa, min_kmer=5, max_kmer=9)"
   ]
  },
  {
   "cell_type": "markdown",
   "metadata": {},
   "source": [
    "## Test if sequence are sufficiently different from each other"
   ]
  },
  {
   "cell_type": "markdown",
   "metadata": {},
   "source": [
    "Pairwise comparison of all sequences generated using a Banded Striped Smith Waterman alignment"
   ]
  },
  {
   "cell_type": "code",
   "execution_count": null,
   "metadata": {
    "ExecuteTime": {
     "start_time": "2019-02-19T17:25:38.602Z"
    }
   },
   "outputs": [
    {
     "name": "stderr",
     "output_type": "stream",
     "text": [
      "  2%|▏         | 49/2000 [00:22<15:07,  2.15it/s]"
     ]
    }
   ],
   "source": [
    "fasta_fn = \"./random_guided_weight.fa\" \n",
    "\n",
    "with pyfaidx.Fasta(fasta_fn) as fa:\n",
    "    n_seq = len(fa.keys())\n",
    "    a = np.zeros(shape=(n_seq,n_seq), dtype=int)\n",
    "    for i in trange(n_seq):\n",
    "        query = StripedSmithWaterman(str(fa[i]))\n",
    "        for j in range(n_seq):\n",
    "            align = query(str(fa[j]))\n",
    "            a[i][n_seq-j-1] = align[\"optimal_alignment_score\"]\n",
    "\n",
    "with pl.style.context(\"ggplot\"):\n",
    "    fig, ax = pl.subplots(figsize=(30,30))\n",
    "    sns.heatmap (data=np.log(a), ax=ax, cmap=\"gist_heat_r\", square=True, cbar=False, xticklabels=False, yticklabels=False)"
   ]
  },
  {
   "cell_type": "markdown",
   "metadata": {},
   "source": [
    "Great !"
   ]
  }
 ],
 "metadata": {
  "celltoolbar": "Initialization Cell",
  "hide_input": false,
  "kernelspec": {
   "display_name": "Python3.6",
   "language": "python",
   "name": "python3.6"
  },
  "language_info": {
   "codemirror_mode": {
    "name": "ipython",
    "version": 3
   },
   "file_extension": ".py",
   "mimetype": "text/x-python",
   "name": "python",
   "nbconvert_exporter": "python",
   "pygments_lexer": "ipython3",
   "version": "3.6.6"
  }
 },
 "nbformat": 4,
 "nbformat_minor": 2
}
