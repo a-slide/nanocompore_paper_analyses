{
 "cells": [
  {
   "cell_type": "markdown",
   "metadata": {},
   "source": [
    "# De Bruijn shuffle sequence generator"
   ]
  },
  {
   "cell_type": "code",
   "execution_count": 3,
   "metadata": {
    "ExecuteTime": {
     "end_time": "2019-02-12T15:23:14.830684Z",
     "start_time": "2019-02-12T15:23:14.823211Z"
    },
    "init_cell": true
   },
   "outputs": [
    {
     "data": {
      "text/html": [
       "<p style=\"font-size:150%;line-height:15px;\"><b>Adrien Leger / EMBL EBI</b></p>"
      ],
      "text/plain": [
       "<IPython.core.display.HTML object>"
      ]
     },
     "metadata": {},
     "output_type": "display_data"
    },
    {
     "data": {
      "text/html": [
       "<p style=\"font-size:125%;line-height:15px;\"><i><b>Starting date : 2019_02_12</b></i></p>"
      ],
      "text/plain": [
       "<IPython.core.display.HTML object>"
      ]
     },
     "metadata": {},
     "output_type": "display_data"
    },
    {
     "data": {
      "text/html": [
       "<p style=\"font-size:125%;line-height:15px;\"><i><b>Last modification date : 2019_02_12</b></i></p>"
      ],
      "text/plain": [
       "<IPython.core.display.HTML object>"
      ]
     },
     "metadata": {},
     "output_type": "display_data"
    }
   ],
   "source": [
    "from datetime import date\n",
    "from pycltools.pycltools import jprint\n",
    "\n",
    "jprint('Adrien Leger / EMBL EBI', bold=True, size=150)\n",
    "jprint('Starting date : 2019_02_12', bold=True, italic=True, size=125)\n",
    "jprint('Last modification date : {}_{:02}_{:02}'.format(date.today().year, date.today().month, date.today().day), bold=True, italic=True, size=125)"
   ]
  },
  {
   "cell_type": "markdown",
   "metadata": {},
   "source": [
    "## Imports"
   ]
  },
  {
   "cell_type": "code",
   "execution_count": 94,
   "metadata": {
    "ExecuteTime": {
     "end_time": "2019-02-12T16:40:21.966239Z",
     "start_time": "2019-02-12T16:40:21.803521Z"
    },
    "init_cell": true
   },
   "outputs": [],
   "source": [
    "# Standard lib imports\n",
    "import os\n",
    "from datetime import date\n",
    "from collections import *\n",
    "from random import *\n",
    "from glob import glob, iglob\n",
    "from shutil import rmtree\n",
    "import itertools\n",
    "from pprint import pprint as pp\n",
    "import gzip\n",
    "\n",
    "# Generic third party imports\n",
    "from pycltools.pycltools import *\n",
    "import pysam\n",
    "import pyfaidx\n",
    "from tqdm import tnrange, tqdm\n",
    "\n",
    "# Ploting lib imports\n",
    "import matplotlib.pyplot as pl\n",
    "import seaborn as sns\n",
    "%matplotlib inline\n",
    "\n",
    "# Data wrangling lib imports\n",
    "import pandas as pd\n",
    "import numpy as np\n",
    "import scipy as sp\n",
    "pd.options.display.max_colwidth = 200\n",
    "pd.options.display.max_columns = 200"
   ]
  },
  {
   "cell_type": "markdown",
   "metadata": {},
   "source": [
    "## Generate basic De Bruijn sequence"
   ]
  },
  {
   "cell_type": "markdown",
   "metadata": {},
   "source": [
    "**Basic De Bruijn function adapted from Wikipedia (https://en.wikipedia.org/wiki/De_Bruijn_sequence)**"
   ]
  },
  {
   "cell_type": "code",
   "execution_count": 21,
   "metadata": {
    "ExecuteTime": {
     "end_time": "2019-02-12T15:45:21.734957Z",
     "start_time": "2019-02-12T15:45:21.728936Z"
    }
   },
   "outputs": [],
   "source": [
    "def de_bruijn (alphabet, kmer_len):\n",
    "    \"\"\"\n",
    "    De Bruijn sequence for alphabet and subsequences of length n.\n",
    "    \"\"\"\n",
    "    k = len(alphabet)\n",
    "    a = np.zeros(k*kmer_len, dtype=np.int)\n",
    "    seq_list = []\n",
    "    \n",
    "    def db (t, p):\n",
    "        # Recursive function to create the de bruijn sequence\n",
    "        if t > kmer_len:\n",
    "            if kmer_len % p == 0:\n",
    "                seq_list.extend (a[1:p+1])\n",
    "        else:\n",
    "            a[t] = a[t - p]\n",
    "            db(t+1, p)\n",
    "            for j in range (a[t-p]+1, k):\n",
    "                a[t] = j\n",
    "                db(t+1, t)\n",
    "    db(1, 1)\n",
    "    return \"\".join(alphabet[i] for i in seq_list)"
   ]
  },
  {
   "cell_type": "markdown",
   "metadata": {},
   "source": [
    "**Test de_bruijn function**"
   ]
  },
  {
   "cell_type": "code",
   "execution_count": 122,
   "metadata": {
    "ExecuteTime": {
     "end_time": "2019-02-12T14:24:10.373604Z",
     "start_time": "2019-02-12T14:24:10.366145Z"
    },
    "scrolled": true
   },
   "outputs": [
    {
     "name": "stdout",
     "output_type": "stream",
     "text": [
      "AAAAAGAAAATAAAACAAAGGAAAGTAAAGCAAATGAAATTAAATCAAACGAAACTAAACCAAGAGAAGATAAGACAAGGGAAGGTAAGGCAAGTGAAGTTAAGTCAAGCGAAGCTAAGCCAATAGAATATAATACAATGGAATGTAATGCAATTGAATTTAATTCAATCGAATCTAATCCAACAGAACATAACACAACGGAACGTAACGCAACTGAACTTAACTCAACCGAACCTAACCCAGAGGAGAGTAGAGCAGATGAGATTAGATCAGACGAGACTAGACCAGGATAGGACAGGGGAGGGTAGGGCAGGTGAGGTTAGGTCAGGCGAGGCTAGGCCAGTATAGTACAGTGGAGTGTAGTGCAGTTGAGTTTAGTTCAGTCGAGTCTAGTCCAGCATAGCACAGCGGAGCGTAGCGCAGCTGAGCTTAGCTCAGCCGAGCCTAGCCCATATGATATTATATCATACGATACTATACCATGACATGGGATGGTATGGCATGTGATGTTATGTCATGCGATGCTATGCCATTACATTGGATTGTATTGCATTTGATTTTATTTCATTCGATTCTATTCCATCACATCGGATCGTATCGCATCTGATCTTATCTCATCCGATCCTATCCCACACGACACTACACCACGGGACGGTACGGCACGTGACGTTACGTCACGCGACGCTACGCCACTGGACTGTACTGCACTTGACTTTACTTCACTCGACTCTACTCCACCGGACCGTACCGCACCTGACCTTACCTCACCCGACCCTACCCCGGGGGTGGGGCGGGTTGGGTCGGGCTGGGCCGGTGTGGTGCGGTTTGGTTCGGTCTGGTCCGGCGTGGCGCGGCTTGGCTCGGCCTGGCCCGTGTTGTGTCGTGCTGTGCCGTTGCGTTTTGTTTCGTTCTGTTCCGTCGCGTCTTGTCTCGTCCTGTCCCGCGCTGCGCCGCTTTGCTTCGCTCTGCTCCGCCTTGCCTCGCCCTGCCCCTTTTTCTTTCCTTCTCTTCCCTCTCCTCCCCC\n",
      "Possible kmer sequences:1024\n",
      "kmer found in De Bruijn Sequence :1024\n",
      "Kmer count:1  Occurence::1024\n"
     ]
    }
   ],
   "source": [
    "seq = de_bruijn (alphabet=[\"A\",\"G\",\"T\",\"C\"], kmer_len=5)\n",
    "print(seq)\n",
    "\n",
    "# Calculate theoritical number of kmers\n",
    "possible_kmers = pow(len(alphabet),kmer_len)\n",
    "print(f\"Possible kmer sequences:{possible_kmers}\")\n",
    "\n",
    "# Count occurence of each kmer in sequence \n",
    "c = Counter()\n",
    "seq_wrap = seq + seq[:kmer_len]\n",
    "for i in range(len(seq)):\n",
    "    c[seq_wrap[i:i+kmer_len]]+=1\n",
    "print(f\"kmer found in De Bruijn Sequence :{len(c)}\")\n",
    "\n",
    "# Bin kmer occurence count \n",
    "cc = Counter()\n",
    "for i in c.values():\n",
    "    cc[i]+=1\n",
    "for i, j in cc.items():\n",
    "    print (f\"Kmer count:{i}  Occurence::{j}\")"
   ]
  },
  {
   "cell_type": "markdown",
   "metadata": {},
   "source": [
    "## Generate shuffled sequences from De Brujin sequence "
   ]
  },
  {
   "cell_type": "markdown",
   "metadata": {},
   "source": [
    "**Fragment suffling method**"
   ]
  },
  {
   "cell_type": "code",
   "execution_count": 59,
   "metadata": {
    "ExecuteTime": {
     "end_time": "2019-02-12T16:02:15.458971Z",
     "start_time": "2019-02-12T16:02:15.449528Z"
    }
   },
   "outputs": [],
   "source": [
    "def shuffled_de_bruijn (alphabet=[\"A\",\"G\",\"T\",\"C\"], kmer_len=7, substring_len=20, stride_len=1, final_seq_len=1000, final_seq_n=1000):\n",
    "\n",
    "    #print(f\"Possible words:{pow(len(alphabet),kmer_len)}\")\n",
    "    seq = de_bruijn(alphabet, kmer_len)\n",
    "    \n",
    "    # Slice De Bruijn in substrings\n",
    "    substring_l=[]\n",
    "    for i in range(0, (len(seq)), stride_len):\n",
    "        if i+substring_len<len(seq):\n",
    "            substring_l.append(seq[i:i+substring_len])\n",
    "        else:\n",
    "            missing = (i+substring_len)-len(seq)\n",
    "            substring_l.append(seq[i:i+substring_len]+seq[0:missing])\n",
    "\n",
    "    # Randomly stitch substrings together to form longer sequences\n",
    "    final_l = []\n",
    "    n = 0\n",
    "    while n < final_seq_n:\n",
    "        # Join and truncate to requested size\n",
    "        stiched_seq = \"\".join(sample(substring_l, final_seq_len//substring_len+1))\n",
    "        stiched_seq = stiched_seq[:final_seq_len]\n",
    "        # Reject if sequence similar to existing one\n",
    "        if stiched_seq in final_l:\n",
    "            continue\n",
    "        final_l.append(stiched_seq)\n",
    "        n+=1\n",
    "    \n",
    "    return final_l"
   ]
  },
  {
   "cell_type": "markdown",
   "metadata": {
    "ExecuteTime": {
     "end_time": "2019-02-12T16:23:12.722578Z",
     "start_time": "2019-02-12T16:23:12.716504Z"
    }
   },
   "source": [
    "**Grid search some options to optimize randomness parameters**"
   ]
  },
  {
   "cell_type": "code",
   "execution_count": 91,
   "metadata": {
    "ExecuteTime": {
     "end_time": "2019-02-12T16:27:11.138240Z",
     "start_time": "2019-02-12T16:27:11.123683Z"
    },
    "scrolled": false
   },
   "outputs": [],
   "source": [
    "def optimize_db_shuffling (\n",
    "    alphabet = [\"A\",\"G\",\"T\",\"C\"],\n",
    "    kmer_len_db = 9,\n",
    "    substring_len = 20,\n",
    "    stride_len = 1,\n",
    "    kmer_len_select = 7,\n",
    "    final_seq_len = 500,\n",
    "    final_seq_n = 2000,\n",
    "    tries=20):\n",
    "    \n",
    "    # Try to generate a seq of shuffled de Bruijn sequences until target_min_coverage and target_max_sd are reached\n",
    "    min_coverage_list = []\n",
    "    max_coverage_list = []\n",
    "    sd_list = []\n",
    "\n",
    "    for t in range(1, tries+1):\n",
    "        # Counter\n",
    "        if t%10 == 0:\n",
    "            stdout_print(\"|\")\n",
    "        else:\n",
    "            stdout_print(\"-\")\n",
    "            \n",
    "        # Generate suffled sequence set\n",
    "        l = shuffled_de_bruijn (alphabet, kmer_len_db, substring_len, stride_len, final_seq_len, final_seq_n)\n",
    "        \n",
    "        # Count occurence of kmers in sequence set\n",
    "        c = Counter()\n",
    "        for seq in l:\n",
    "            for i in range(len(seq)-kmer_len_select-1):\n",
    "                c[seq[i:i+kmer_len_select]]+=1\n",
    "        \n",
    "        # Bin kmer occurence count \n",
    "        cc = Counter()\n",
    "        for i in c.values():\n",
    "            cc[i]+=1\n",
    "        s = pd.Series(cc).sort_index()\n",
    "        \n",
    "        # Collect stats about kmer content\n",
    "        min_coverage_list.append(s.index[0])\n",
    "        max_coverage_list.append(s.index[-1])\n",
    "        sd_list.append(s.std())\n",
    "    \n",
    "    stdout_print(\"\\n\")\n",
    "    \n",
    "    return {\n",
    "        \"best min_coverage\":np.max(min_coverage_list),\n",
    "        \"best max_coverage\":np.min(max_coverage_list),\n",
    "        \"best sd\":int(np.min(sd_list)),\n",
    "        \"median min_coverage\":int(np.median(min_coverage_list)),\n",
    "        \"median max_coverage\":int(np.median(max_coverage_list)),\n",
    "        \"median sd\":int(np.median(sd_list))}"
   ]
  },
  {
   "cell_type": "code",
   "execution_count": 93,
   "metadata": {
    "ExecuteTime": {
     "end_time": "2019-02-12T16:40:21.800698Z",
     "start_time": "2019-02-12T16:27:28.312619Z"
    },
    "scrolled": false
   },
   "outputs": [
    {
     "name": "stdout",
     "output_type": "stream",
     "text": [
      "Process kmer_len_db:7, substring_len:15\n",
      "---------|---------|---------|---------|---------|---------|---------|---------|---------|---------|\n",
      "Process kmer_len_db:7, substring_len:20\n",
      "---------|---------|---------|---------|---------|---------|---------|---------|---------|---------|\n",
      "Process kmer_len_db:7, substring_len:25\n",
      "---------|---------|---------|---------|---------|---------|---------|---------|---------|---------|\n",
      "Process kmer_len_db:7, substring_len:30\n",
      "---------|---------|---------|---------|---------|---------|---------|---------|---------|---------|\n",
      "Process kmer_len_db:9, substring_len:15\n",
      "---------|---------|---------|---------|---------|---------|---------|---------|---------|---------|\n",
      "Process kmer_len_db:9, substring_len:20\n",
      "---------|---------|---------|---------|---------|---------|---------|---------|---------|---------|\n",
      "Process kmer_len_db:9, substring_len:25\n",
      "---------|---------|---------|---------|---------|---------|---------|---------|---------|---------|\n",
      "Process kmer_len_db:9, substring_len:30\n",
      "---------|---------|---------|---------|---------|---------|---------|---------|---------|---------|\n"
     ]
    },
    {
     "data": {
      "text/html": [
       "<div>\n",
       "<style scoped>\n",
       "    .dataframe tbody tr th:only-of-type {\n",
       "        vertical-align: middle;\n",
       "    }\n",
       "\n",
       "    .dataframe tbody tr th {\n",
       "        vertical-align: top;\n",
       "    }\n",
       "\n",
       "    .dataframe thead th {\n",
       "        text-align: right;\n",
       "    }\n",
       "</style>\n",
       "<table border=\"1\" class=\"dataframe\">\n",
       "  <thead>\n",
       "    <tr style=\"text-align: right;\">\n",
       "      <th></th>\n",
       "      <th>best min_coverage</th>\n",
       "      <th>best max_coverage</th>\n",
       "      <th>best sd</th>\n",
       "      <th>median min_coverage</th>\n",
       "      <th>median max_coverage</th>\n",
       "      <th>median sd</th>\n",
       "    </tr>\n",
       "  </thead>\n",
       "  <tbody>\n",
       "    <tr>\n",
       "      <th>kmer_len_db:7, substring_len:15</th>\n",
       "      <td>35</td>\n",
       "      <td>88</td>\n",
       "      <td>289</td>\n",
       "      <td>33</td>\n",
       "      <td>92</td>\n",
       "      <td>299</td>\n",
       "    </tr>\n",
       "    <tr>\n",
       "      <th>kmer_len_db:7, substring_len:20</th>\n",
       "      <td>35</td>\n",
       "      <td>88</td>\n",
       "      <td>288</td>\n",
       "      <td>32</td>\n",
       "      <td>93</td>\n",
       "      <td>298</td>\n",
       "    </tr>\n",
       "    <tr>\n",
       "      <th>kmer_len_db:7, substring_len:25</th>\n",
       "      <td>36</td>\n",
       "      <td>87</td>\n",
       "      <td>288</td>\n",
       "      <td>33</td>\n",
       "      <td>92</td>\n",
       "      <td>299</td>\n",
       "    </tr>\n",
       "    <tr>\n",
       "      <th>kmer_len_db:7, substring_len:30</th>\n",
       "      <td>36</td>\n",
       "      <td>87</td>\n",
       "      <td>287</td>\n",
       "      <td>32</td>\n",
       "      <td>92</td>\n",
       "      <td>298</td>\n",
       "    </tr>\n",
       "    <tr>\n",
       "      <th>kmer_len_db:9, substring_len:15</th>\n",
       "      <td>35</td>\n",
       "      <td>90</td>\n",
       "      <td>289</td>\n",
       "      <td>32</td>\n",
       "      <td>93</td>\n",
       "      <td>296</td>\n",
       "    </tr>\n",
       "    <tr>\n",
       "      <th>kmer_len_db:9, substring_len:20</th>\n",
       "      <td>34</td>\n",
       "      <td>91</td>\n",
       "      <td>280</td>\n",
       "      <td>30</td>\n",
       "      <td>96</td>\n",
       "      <td>286</td>\n",
       "    </tr>\n",
       "    <tr>\n",
       "      <th>kmer_len_db:9, substring_len:25</th>\n",
       "      <td>32</td>\n",
       "      <td>92</td>\n",
       "      <td>270</td>\n",
       "      <td>29</td>\n",
       "      <td>99</td>\n",
       "      <td>278</td>\n",
       "    </tr>\n",
       "    <tr>\n",
       "      <th>kmer_len_db:9, substring_len:30</th>\n",
       "      <td>31</td>\n",
       "      <td>95</td>\n",
       "      <td>263</td>\n",
       "      <td>26</td>\n",
       "      <td>103</td>\n",
       "      <td>270</td>\n",
       "    </tr>\n",
       "  </tbody>\n",
       "</table>\n",
       "</div>"
      ],
      "text/plain": [
       "                                 best min_coverage  best max_coverage  \\\n",
       "kmer_len_db:7, substring_len:15                 35                 88   \n",
       "kmer_len_db:7, substring_len:20                 35                 88   \n",
       "kmer_len_db:7, substring_len:25                 36                 87   \n",
       "kmer_len_db:7, substring_len:30                 36                 87   \n",
       "kmer_len_db:9, substring_len:15                 35                 90   \n",
       "kmer_len_db:9, substring_len:20                 34                 91   \n",
       "kmer_len_db:9, substring_len:25                 32                 92   \n",
       "kmer_len_db:9, substring_len:30                 31                 95   \n",
       "\n",
       "                                 best sd  median min_coverage  \\\n",
       "kmer_len_db:7, substring_len:15      289                   33   \n",
       "kmer_len_db:7, substring_len:20      288                   32   \n",
       "kmer_len_db:7, substring_len:25      288                   33   \n",
       "kmer_len_db:7, substring_len:30      287                   32   \n",
       "kmer_len_db:9, substring_len:15      289                   32   \n",
       "kmer_len_db:9, substring_len:20      280                   30   \n",
       "kmer_len_db:9, substring_len:25      270                   29   \n",
       "kmer_len_db:9, substring_len:30      263                   26   \n",
       "\n",
       "                                 median max_coverage  median sd  \n",
       "kmer_len_db:7, substring_len:15                   92        299  \n",
       "kmer_len_db:7, substring_len:20                   93        298  \n",
       "kmer_len_db:7, substring_len:25                   92        299  \n",
       "kmer_len_db:7, substring_len:30                   92        298  \n",
       "kmer_len_db:9, substring_len:15                   93        296  \n",
       "kmer_len_db:9, substring_len:20                   96        286  \n",
       "kmer_len_db:9, substring_len:25                   99        278  \n",
       "kmer_len_db:9, substring_len:30                  103        270  "
      ]
     },
     "metadata": {},
     "output_type": "display_data"
    }
   ],
   "source": [
    "d = {}\n",
    "for kmer_len_db in [7,9]:\n",
    "    for substring_len in [15,18,20,25,30]:\n",
    "        print (f\"Process kmer_len_db:{kmer_len_db}, substring_len:{substring_len}\")\n",
    "\n",
    "        res = optimize_db_shuffling(kmer_len_db=kmer_len_db, substring_len=substring_len, tries=100)\n",
    "        d[f\"kmer_len_db:{kmer_len_db}, substring_len:{substring_len}\"] = res\n",
    "\n",
    "display (pd.DataFrame.from_dict(d, orient=\"index\"))"
   ]
  },
  {
   "cell_type": "code",
   "execution_count": null,
   "metadata": {
    "ExecuteTime": {
     "start_time": "2019-02-12T16:54:38.765Z"
    },
    "scrolled": false
   },
   "outputs": [
    {
     "name": "stdout",
     "output_type": "stream",
     "text": [
      "Generate shuffled sets until target conditions are met\n"
     ]
    },
    {
     "name": "stderr",
     "output_type": "stream",
     "text": [
      "1890 tries [25:39,  1.11 tries/s]"
     ]
    }
   ],
   "source": [
    "alphabet = [\"A\",\"G\",\"T\",\"C\"]\n",
    "kmer_len_db = 9\n",
    "substring_len = 15\n",
    "stride_len = 1\n",
    "kmer_len_select = 7\n",
    "final_seq_len = 500\n",
    "final_seq_n = 2000\n",
    "target_min_coverage = 35\n",
    "target_max_coverage = 92\n",
    "target_max_sd = 290\n",
    "\n",
    "# Try to generate a seq of shuffled de Bruijn sequences until target_min_coverage and target_max_sd are reached\n",
    "stdout_print(\"Generate shuffled sets until target conditions are met\\n\")\n",
    "\n",
    "with tqdm (unit=\" tries\") as pbar:\n",
    "    while True:\n",
    "        pbar.update()\n",
    "        \n",
    "        # Generate shuffled sequence set\n",
    "        l = shuffled_de_bruijn (alphabet, kmer_len_db, substring_len, stride_len, final_seq_len, final_seq_n)\n",
    "        \n",
    "        # Count occurence of kmers in sequence set\n",
    "        c = Counter()\n",
    "        for seq in l:\n",
    "            for i in range(len(seq)-kmer_len_select-1):\n",
    "                c[seq[i:i+kmer_len_select]]+=1\n",
    "        \n",
    "        # Bin kmer occurence count \n",
    "        cc = Counter()\n",
    "        for i in c.values():\n",
    "            cc[i]+=1\n",
    "        s = pd.Series(cc).sort_index()\n",
    "    \n",
    "        # Find candidate sample matching requirement\n",
    "        if s.index[0] >= target_min_coverage and s.index[-1] <= target_max_coverage and s.std() <= target_max_sd:\n",
    "            stdout_print(\"Lower count bin: {}={}, Higher count bin: {}={}, Standard deviation: {}\\n\".format(s.index[0], s.iloc[0], s.index[-1], s.iloc[-1], s.std()))\n",
    "            break\n",
    "\n",
    "stdout_print (\"Write sequence set to fasta file\\n\")\n",
    "\n",
    "fn_out = \"./shuffle_de_bruijn_ref.fa\"\n",
    "with open (fn_out, \"w\") as fp:\n",
    "    for i, seq in enumerate(l):\n",
    "        fp.write(\">ref_{:010}\\n{}\\n\".format(i, seq))\n",
    "head(fn_out, max_char_col=1000, max_char_line=1000)"
   ]
  },
  {
   "cell_type": "markdown",
   "metadata": {},
   "source": [
    "## Characterize kmer context in selected set"
   ]
  },
  {
   "cell_type": "code",
   "execution_count": 12,
   "metadata": {
    "ExecuteTime": {
     "end_time": "2019-02-12T15:29:48.243944Z",
     "start_time": "2019-02-12T15:29:33.426212Z"
    },
    "scrolled": false
   },
   "outputs": [
    {
     "data": {
      "text/html": [
       "<p style=\"line-height:15px;\"><b>Kmer of length 5</b></p>"
      ],
      "text/plain": [
       "<IPython.core.display.HTML object>"
      ]
     },
     "metadata": {},
     "output_type": "display_data"
    },
    {
     "name": "stdout",
     "output_type": "stream",
     "text": [
      "Found 1,024 kmers out of 1,024 possibilities\n",
      "Median occurences: 966, Min occurences: 829, Max occurences: 1,103\n"
     ]
    },
    {
     "data": {
      "image/png": "[encoded data removed]",
      "text/plain": [
       "<Figure size 720x144 with 1 Axes>"
      ]
     },
     "metadata": {},
     "output_type": "display_data"
    },
    {
     "data": {
      "text/html": [
       "<p style=\"line-height:15px;\"><b>Kmer of length 6</b></p>"
      ],
      "text/plain": [
       "<IPython.core.display.HTML object>"
      ]
     },
     "metadata": {},
     "output_type": "display_data"
    },
    {
     "name": "stdout",
     "output_type": "stream",
     "text": [
      "Found 4,096 kmers out of 4,096 possibilities\n",
      "Median occurences: 241, Min occurences: 182, Max occurences: 300\n"
     ]
    },
    {
     "data": {
      "image/png": "[encoded data removed]",
      "text/plain": [
       "<Figure size 720x144 with 1 Axes>"
      ]
     },
     "metadata": {},
     "output_type": "display_data"
    },
    {
     "data": {
      "text/html": [
       "<p style=\"line-height:15px;\"><b>Kmer of length 7</b></p>"
      ],
      "text/plain": [
       "<IPython.core.display.HTML object>"
      ]
     },
     "metadata": {},
     "output_type": "display_data"
    },
    {
     "name": "stdout",
     "output_type": "stream",
     "text": [
      "Found 16,384 kmers out of 16,384 possibilities\n",
      "Median occurences: 60, Min occurences: 37, Max occurences: 94\n"
     ]
    },
    {
     "data": {
      "image/png": "[encoded data removed]",
      "text/plain": [
       "<Figure size 720x144 with 1 Axes>"
      ]
     },
     "metadata": {},
     "output_type": "display_data"
    },
    {
     "data": {
      "text/html": [
       "<p style=\"line-height:15px;\"><b>Kmer of length 8</b></p>"
      ],
      "text/plain": [
       "<IPython.core.display.HTML object>"
      ]
     },
     "metadata": {},
     "output_type": "display_data"
    },
    {
     "name": "stdout",
     "output_type": "stream",
     "text": [
      "Found 65,246 kmers out of 65,536 possibilities\n",
      "Median occurences: 6, Min occurences: 1, Max occurences: 77\n"
     ]
    },
    {
     "data": {
      "image/png": "[encoded data removed]",
      "text/plain": [
       "<Figure size 720x144 with 1 Axes>"
      ]
     },
     "metadata": {},
     "output_type": "display_data"
    },
    {
     "data": {
      "text/html": [
       "<p style=\"line-height:15px;\"><b>Kmer of length 9</b></p>"
      ],
      "text/plain": [
       "<IPython.core.display.HTML object>"
      ]
     },
     "metadata": {},
     "output_type": "display_data"
    },
    {
     "name": "stdout",
     "output_type": "stream",
     "text": [
      "Found 197,452 kmers out of 262,144 possibilities\n",
      "Median occurences: 2, Min occurences: 1, Max occurences: 65\n"
     ]
    },
    {
     "data": {
      "image/png": "[encoded data removed]",
      "text/plain": [
       "<Figure size 720x144 with 1 Axes>"
      ]
     },
     "metadata": {},
     "output_type": "display_data"
    },
    {
     "data": {
      "text/html": [
       "<p style=\"line-height:15px;\"><b>Kmer of length 10</b></p>"
      ],
      "text/plain": [
       "<IPython.core.display.HTML object>"
      ]
     },
     "metadata": {},
     "output_type": "display_data"
    },
    {
     "name": "stdout",
     "output_type": "stream",
     "text": [
      "Found 325,965 kmers out of 1,048,576 possibilities\n",
      "Median occurences: 1, Min occurences: 1, Max occurences: 60\n"
     ]
    },
    {
     "data": {
      "image/png": "[encoded data removed]",
      "text/plain": [
       "<Figure size 720x144 with 1 Axes>"
      ]
     },
     "metadata": {},
     "output_type": "display_data"
    },
    {
     "data": {
      "text/html": [
       "<p style=\"line-height:15px;\"><b>Kmer of length 11</b></p>"
      ],
      "text/plain": [
       "<IPython.core.display.HTML object>"
      ]
     },
     "metadata": {},
     "output_type": "display_data"
    },
    {
     "name": "stdout",
     "output_type": "stream",
     "text": [
      "Found 404,579 kmers out of 4,194,304 possibilities\n",
      "Median occurences: 1, Min occurences: 1, Max occurences: 56\n"
     ]
    },
    {
     "data": {
      "image/png": "[encoded data removed]",
      "text/plain": [
       "<Figure size 720x144 with 1 Axes>"
      ]
     },
     "metadata": {},
     "output_type": "display_data"
    }
   ],
   "source": [
    "with pyfaidx.Fasta(\"./shuffle_de_bruijn_ref.fa\") as fa:\n",
    "    for kmer_len in range(5,12):\n",
    "        jprint (f\"Kmer of length {kmer_len}\", bold=True)\n",
    "        c = Counter()\n",
    "        l = []\n",
    "        for seq in fa:\n",
    "            seq = str(seq)\n",
    "            for i in range(0, len(seq)-kmer_len+1):\n",
    "                c[seq[i:i+kmer_len]]+=1       \n",
    "        print (\"Found {:,} kmers out of {:,} possibilities\".format(len(c), pow(4,kmer_len)))\n",
    "        \n",
    "        l = []\n",
    "        for i in c.values():\n",
    "            l.append(i)\n",
    "        print (\"Median occurences: {:,}, Min occurences: {:,}, Max occurences: {:,}\".format(int(np.median(l)),np.min(l),np.max(l)))\n",
    "        \n",
    "        with pl.style.context(\"ggplot\"):\n",
    "            fig, ax = pl.subplots(figsize=(10,2))\n",
    "            sns.violinplot(x=l, ax=ax, orient=\"h\", cut=0)\n",
    "            ax.set_xlabel(\"Occurences count\")\n",
    "            pl.show()\n",
    "        "
   ]
  }
 ],
 "metadata": {
  "celltoolbar": "Initialization Cell",
  "hide_input": false,
  "kernelspec": {
   "display_name": "Python3.6",
   "language": "python",
   "name": "python3.6"
  },
  "language_info": {
   "codemirror_mode": {
    "name": "ipython",
    "version": 3
   },
   "file_extension": ".py",
   "mimetype": "text/x-python",
   "name": "python",
   "nbconvert_exporter": "python",
   "pygments_lexer": "ipython3",
   "version": "3.6.6"
  }
 },
 "nbformat": 4,
 "nbformat_minor": 2
}
